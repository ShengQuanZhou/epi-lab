{
 "cells": [
  {
   "cell_type": "markdown",
   "metadata": {},
   "source": [
    "Write a program that takes an array $A$ and an index $i$ into $A$, and rearranges the elements such that all elements less than $A[i]$ (the pivot) appear first, followed by elements equal to the pivot, followed by elements greater than the pivot."
   ]
  },
  {
   "cell_type": "code",
   "execution_count": 1,
   "metadata": {
    "collapsed": true
   },
   "outputs": [],
   "source": [
    "def swap(i,j,A):\n",
    "    \"\"\"\n",
    "    Swap the element i and j of an array A\n",
    "    \"\"\"\n",
    "    temp = A[i]\n",
    "    A[i] = A[j]\n",
    "    A[j] = temp"
   ]
  },
  {
   "cell_type": "code",
   "execution_count": 40,
   "metadata": {
    "collapsed": true
   },
   "outputs": [],
   "source": [
    "def DutchFlagPartition(pivot_index, A):\n",
    "    \"\"\"\n",
    "    Keep the following invariants during partitioning:\n",
    "    bottom group:       A[0:smaller-1]\n",
    "    middle group:       A[smaller:equal-1]\n",
    "    unclassified group: A[equal:larger]\n",
    "    top group:          A[larger+1:]\n",
    "    \"\"\"\n",
    "    \n",
    "    pivot = A[pivot_index]\n",
    "    \n",
    "    smaller = 0\n",
    "    equal = 0\n",
    "    larger = len(A)-1\n",
    "    \n",
    "    # Keep iterating until there is no unclassified element\n",
    "    while equal <= larger:\n",
    "        print(\"-------------\")\n",
    "        print(smaller, equal, larger)\n",
    "        if A[equal] < pivot:\n",
    "            swap(equal, smaller, A)\n",
    "            equal += 1\n",
    "            smaller += 1\n",
    "        elif A[equal] == pivot:\n",
    "            equal += 1\n",
    "        else:\n",
    "            swap(equal, larger, A)\n",
    "            larger -= 1\n",
    "        print(A)\n",
    "        print(smaller, equal, larger)\n",
    "            \n",
    "    return A"
   ]
  },
  {
   "cell_type": "code",
   "execution_count": 50,
   "metadata": {},
   "outputs": [
    {
     "name": "stdout",
     "output_type": "stream",
     "text": [
      "[4 0 2 3 6 9 0 9]\n",
      "-------------\n",
      "pivot =  3\n",
      "-------------\n",
      "0 0 7\n",
      "[9 0 2 3 6 9 0 4]\n",
      "0 0 6\n",
      "-------------\n",
      "0 0 6\n",
      "[0 0 2 3 6 9 9 4]\n",
      "0 0 5\n",
      "-------------\n",
      "0 0 5\n",
      "[0 0 2 3 6 9 9 4]\n",
      "1 1 5\n",
      "-------------\n",
      "1 1 5\n",
      "[0 0 2 3 6 9 9 4]\n",
      "2 2 5\n",
      "-------------\n",
      "2 2 5\n",
      "[0 0 2 3 6 9 9 4]\n",
      "3 3 5\n",
      "-------------\n",
      "3 3 5\n",
      "[0 0 2 3 6 9 9 4]\n",
      "3 4 5\n",
      "-------------\n",
      "3 4 5\n",
      "[0 0 2 3 9 6 9 4]\n",
      "3 4 4\n",
      "-------------\n",
      "3 4 4\n",
      "[0 0 2 3 9 6 9 4]\n",
      "3 4 3\n"
     ]
    },
    {
     "data": {
      "text/plain": [
       "array([0, 0, 2, 3, 9, 6, 9, 4])"
      ]
     },
     "execution_count": 50,
     "metadata": {},
     "output_type": "execute_result"
    }
   ],
   "source": [
    "import numpy as np\n",
    "A = np.random.randint(10, size=8)\n",
    "print(A)\n",
    "print(\"-------------\")\n",
    "pivot_index = 3\n",
    "print(\"pivot = \", A[pivot_index])\n",
    "DutchFlagPartition(pivot_index, A)"
   ]
  }
 ],
 "metadata": {
  "kernelspec": {
   "display_name": "Python 3",
   "language": "python",
   "name": "python3"
  },
  "language_info": {
   "codemirror_mode": {
    "name": "ipython",
    "version": 3
   },
   "file_extension": ".py",
   "mimetype": "text/x-python",
   "name": "python",
   "nbconvert_exporter": "python",
   "pygments_lexer": "ipython3",
   "version": "3.6.0"
  }
 },
 "nbformat": 4,
 "nbformat_minor": 2
}
