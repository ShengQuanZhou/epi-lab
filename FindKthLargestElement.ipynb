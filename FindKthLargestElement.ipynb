{
 "cells": [
  {
   "cell_type": "markdown",
   "metadata": {},
   "source": [
    "Design an algorithm for computing the $k$th largest element in an array. Assume entries are distinct."
   ]
  },
  {
   "cell_type": "code",
   "execution_count": 33,
   "metadata": {},
   "outputs": [],
   "source": [
    "def DutchFlagPartition(pivot_index, A, left, right):\n",
    "    \"\"\"\n",
    "    Keep the following invariants during partitioning:\n",
    "    bottom group:       A[0:larger-1]\n",
    "    middle group:       A[larger:equal-1]\n",
    "    unclassified group: A[equal:smaller]\n",
    "    top group:          A[smaller+1:]\n",
    "    \"\"\"\n",
    "    \n",
    "    pivot = A[pivot_index]\n",
    "    larger = left\n",
    "    equal = left\n",
    "    smaller = right\n",
    "    \n",
    "    while equal <= smaller:\n",
    "        if A[equal] < pivot:\n",
    "            A[equal], A[smaller] = A[smaller], A[equal]\n",
    "            smaller -= 1\n",
    "        elif A[equal] == pivot:\n",
    "            equal += 1\n",
    "        else:\n",
    "            A[equal], A[larger] = A[larger], A[equal]\n",
    "            equal += 1\n",
    "            larger += 1\n",
    "            \n",
    "    return equal-1"
   ]
  },
  {
   "cell_type": "code",
   "execution_count": 51,
   "metadata": {
    "collapsed": true
   },
   "outputs": [],
   "source": [
    "def FindKthLargest(A, k):\n",
    "    import random\n",
    "    left = 0\n",
    "    right = len(A)-1\n",
    "    \n",
    "    while left <= right:\n",
    "        #print(left, right)\n",
    "        pivot_index = random.randint(left, right)\n",
    "        #print(\"pivot index = \", pivot_index)\n",
    "        new_pivot_index = DutchFlagPartition(pivot_index, A, left, right)\n",
    "        #print(A, new_pivot_index)\n",
    "        if new_pivot_index == k-1:\n",
    "            return A[new_pivot_index]\n",
    "        elif new_pivot_index > k-1:\n",
    "            right = new_pivot_index-1\n",
    "        else:\n",
    "            left = new_pivot_index+1"
   ]
  },
  {
   "cell_type": "code",
   "execution_count": 59,
   "metadata": {
    "scrolled": false
   },
   "outputs": [
    {
     "data": {
      "text/plain": [
       "7"
      ]
     },
     "execution_count": 59,
     "metadata": {},
     "output_type": "execute_result"
    }
   ],
   "source": [
    "A = [4, 7, 10, 1, 5, 6, 2, 3, 23, 8]\n",
    "FindKthLargest(A, 4)"
   ]
  },
  {
   "cell_type": "code",
   "execution_count": null,
   "metadata": {
    "collapsed": true
   },
   "outputs": [],
   "source": []
  }
 ],
 "metadata": {
  "kernelspec": {
   "display_name": "Python 3",
   "language": "python",
   "name": "python3"
  },
  "language_info": {
   "codemirror_mode": {
    "name": "ipython",
    "version": 3
   },
   "file_extension": ".py",
   "mimetype": "text/x-python",
   "name": "python",
   "nbconvert_exporter": "python",
   "pygments_lexer": "ipython3",
   "version": "3.6.0"
  }
 },
 "nbformat": 4,
 "nbformat_minor": 2
}
