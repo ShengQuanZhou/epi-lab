{
 "cells": [
  {
   "cell_type": "markdown",
   "metadata": {},
   "source": [
    "You are given traffic at various times and a window length. Compute for each time, the maximum traffic over the window length time interval which ends at that time. The input is specified by an array, where each entry is a timestamp and corresponding amount of traffic."
   ]
  },
  {
   "cell_type": "code",
   "execution_count": 52,
   "metadata": {
    "collapsed": true
   },
   "outputs": [],
   "source": [
    "class TrafficElement:\n",
    "    \n",
    "    def __init__(self, time, volume):\n",
    "        self.time = time\n",
    "        self.volume = volume\n",
    "        \n",
    "    def __str__(self):\n",
    "        return \"(\" + str(self.time) + \",\" + str(self.volume) + \")\"\n",
    "        \n",
    "    def __gt__(self, other):\n",
    "        return self.volume > other.volume\n",
    "    \n",
    "    def __ge__(self, other):\n",
    "        return self.volume >= other.volume\n",
    "    \n",
    "    def __eq__(self, other):\n",
    "        return self.time == other.time and self.volume == other.volume"
   ]
  },
  {
   "cell_type": "code",
   "execution_count": 53,
   "metadata": {
    "collapsed": true
   },
   "outputs": [],
   "source": [
    "class QueueWithMax:\n",
    "    \n",
    "    def __init__(self):\n",
    "        self.entries = []\n",
    "        self.candidates = []\n",
    "    \n",
    "    def enqueue(self, x):\n",
    "        self.entries.append(x)\n",
    "        while len(self.candidates) > 0:\n",
    "            if self.candidates[-1] >= x:\n",
    "                break\n",
    "            self.candidates.pop()\n",
    "        self.candidates.append(x)\n",
    "\n",
    "    def dequeue(self):\n",
    "        if len(self.entries)>0:\n",
    "            result = self.entries[0]\n",
    "            if result == self.candidates[0]:\n",
    "                self.candidates.pop(0)\n",
    "            self.entries.pop(0)\n",
    "            return result\n",
    "        \n",
    "    def max(self):\n",
    "        if len(self.candidates)>0:\n",
    "            return self.candidates[0]"
   ]
  },
  {
   "cell_type": "code",
   "execution_count": 54,
   "metadata": {
    "collapsed": true
   },
   "outputs": [],
   "source": [
    "def CalculateTrafficVolumes(A, w):\n",
    "    sliding_window = QueueWithMax()\n",
    "    max_volumes = []\n",
    "    for traffic_info in A:\n",
    "        sliding_window.enqueue(traffic_info)\n",
    "        while traffic_info.time - sliding_window.entries[0].time > w:\n",
    "            sliding_window.dequeue()\n",
    "        new_traffic_info = TrafficElement(traffic_info.time, sliding_window.max())\n",
    "        max_volumes.append(new_traffic_info)\n",
    "    return max_volumes"
   ]
  },
  {
   "cell_type": "code",
   "execution_count": 55,
   "metadata": {},
   "outputs": [],
   "source": [
    "t1 = TrafficElement(0, 1.3)\n",
    "t2 = TrafficElement(2, 2.5)\n",
    "t3 = TrafficElement(3, 3.7)\n",
    "t4 = TrafficElement(5, 1.4)\n",
    "t5 = TrafficElement(6, 2.6)\n",
    "t6 = TrafficElement(8, 2.2)\n",
    "t7 = TrafficElement(9, 1.7)\n",
    "t8 = TrafficElement(14, 1.7)\n",
    "A = []\n",
    "A.append(t1)\n",
    "A.append(t2)\n",
    "A.append(t3)\n",
    "A.append(t4)\n",
    "A.append(t5)\n",
    "A.append(t6)\n",
    "A.append(t7)\n",
    "A.append(t8)\n",
    "\n",
    "w = 3"
   ]
  },
  {
   "cell_type": "code",
   "execution_count": 58,
   "metadata": {},
   "outputs": [
    {
     "name": "stdout",
     "output_type": "stream",
     "text": [
      "(0,(0,1.3))\n",
      "(2,(2,2.5))\n",
      "(3,(3,3.7))\n",
      "(5,(3,3.7))\n",
      "(6,(3,3.7))\n",
      "(8,(6,2.6))\n",
      "(9,(6,2.6))\n",
      "(14,(14,1.7))\n"
     ]
    }
   ],
   "source": [
    "results = CalculateTrafficVolumes(A,w)\n",
    "for result in results:\n",
    "    print(result)"
   ]
  }
 ],
 "metadata": {
  "kernelspec": {
   "display_name": "Python 3",
   "language": "python",
   "name": "python3"
  },
  "language_info": {
   "codemirror_mode": {
    "name": "ipython",
    "version": 3
   },
   "file_extension": ".py",
   "mimetype": "text/x-python",
   "name": "python",
   "nbconvert_exporter": "python",
   "pygments_lexer": "ipython3",
   "version": "3.6.0"
  }
 },
 "nbformat": 4,
 "nbformat_minor": 2
}
