{
 "cells": [
  {
   "cell_type": "markdown",
   "metadata": {},
   "source": [
    "Write a program that takes an array denoting the daily stock price, and returns the maximum profit that could be made by buying and selling one share of that stock."
   ]
  },
  {
   "cell_type": "code",
   "execution_count": 30,
   "metadata": {
    "collapsed": true
   },
   "outputs": [],
   "source": [
    "def BuyAndSellStockOnce(prices):\n",
    "    import sys\n",
    "    min_price_so_far = sys.float_info.max\n",
    "    max_profit = 0\n",
    "    min_price_point = 0\n",
    "    sell_point = 0\n",
    "    buy_point = 0\n",
    "    for index, price in enumerate(prices):\n",
    "        \n",
    "        if price < min_price_so_far:\n",
    "            min_price_so_far = price\n",
    "            min_price_point = index\n",
    "        \n",
    "        if max_profit < price - min_price_so_far:\n",
    "            max_profit = price - min_price_so_far\n",
    "            buy_point = min_price_point\n",
    "            sell_point = index\n",
    "        \n",
    "    return (max_profit, buy_point, sell_point)"
   ]
  },
  {
   "cell_type": "code",
   "execution_count": 31,
   "metadata": {},
   "outputs": [
    {
     "name": "stdout",
     "output_type": "stream",
     "text": [
      "[76, 98, 8, 41, 52, 70, 6, 39, 3, 7]\n",
      "(62, 2, 5)\n"
     ]
    }
   ],
   "source": [
    "import random\n",
    "#my_randoms = random.sample(range(100), 10)\n",
    "my_randoms = [76, 98, 8, 41, 52, 70, 6, 39, 3, 7]\n",
    "print(my_randoms)\n",
    "result = BuyAndSellStockOnce(my_randoms)\n",
    "print(result)"
   ]
  },
  {
   "cell_type": "markdown",
   "metadata": {},
   "source": [
    "Write a program that computes the maximum profit that can be made by buying and selling a share at most twice. The second buy must be made after the first sale."
   ]
  },
  {
   "cell_type": "code",
   "execution_count": 72,
   "metadata": {
    "collapsed": true
   },
   "outputs": [],
   "source": [
    "def BuyAndSellStockAtMostTwice(prices):\n",
    "    import sys\n",
    "    min_price_so_far = sys.float_info.max\n",
    "    max_profit = 0\n",
    "    first_buy_and_sell_profits = []\n",
    "    for price in prices:\n",
    "        if price < min_price_so_far:\n",
    "            min_price_so_far = price\n",
    "            \n",
    "        if max_profit < price - min_price_so_far:\n",
    "            max_profit = price - min_price_so_far\n",
    "        \n",
    "        first_buy_and_sell_profits.append(max_profit)\n",
    "        \n",
    "    max_price_so_far = 0\n",
    "    for reversed_index, price in enumerate(reversed(prices)):\n",
    "        index = len(prices)-reversed_index-1\n",
    "        if price > max_price_so_far:\n",
    "            max_price_so_far = price\n",
    "        \n",
    "        if max_profit < (max_price_so_far - price) + first_buy_and_sell_profits[index-1]:\n",
    "            max_profit = (max_price_so_far - price) + first_buy_and_sell_profits[index-1]\n",
    "            \n",
    "    return max_profit"
   ]
  },
  {
   "cell_type": "code",
   "execution_count": 73,
   "metadata": {},
   "outputs": [
    {
     "name": "stdout",
     "output_type": "stream",
     "text": [
      "[49, 25, 83, 30, 27, 86, 35, 60, 70, 45, 20, 21, 19, 17, 15, 87, 8, 42, 2, 96, 84, 79, 4, 16, 62, 85, 51, 33, 40, 0, 93, 46, 59, 95, 72, 77, 28, 14, 94, 43, 91, 67, 50, 54, 90, 13, 74, 68, 73, 99, 36, 58, 24, 47, 57, 64, 39, 44, 63, 34, 80, 48, 23, 26, 12, 38, 97, 55, 1, 53, 52, 41, 76, 5, 6, 82, 89, 56, 10, 88, 61, 71, 9, 7, 18, 81, 66, 69, 31, 92, 11, 3, 22, 32, 37, 98, 29, 65, 78, 75]\n",
      "99\n",
      "196\n"
     ]
    }
   ],
   "source": [
    "import random\n",
    "my_randoms = random.sample(range(100), 100)\n",
    "print(my_randoms)\n",
    "result = BuyAndSellStockOnce(my_randoms)\n",
    "print(result[0])\n",
    "result = BuyAndSellStockAtMostTwice(my_randoms)\n",
    "print(result)"
   ]
  },
  {
   "cell_type": "code",
   "execution_count": null,
   "metadata": {
    "collapsed": true
   },
   "outputs": [],
   "source": []
  }
 ],
 "metadata": {
  "kernelspec": {
   "display_name": "Python 3",
   "language": "python",
   "name": "python3"
  },
  "language_info": {
   "codemirror_mode": {
    "name": "ipython",
    "version": 3
   },
   "file_extension": ".py",
   "mimetype": "text/x-python",
   "name": "python",
   "nbconvert_exporter": "python",
   "pygments_lexer": "ipython3",
   "version": "3.6.0"
  }
 },
 "nbformat": 4,
 "nbformat_minor": 2
}
