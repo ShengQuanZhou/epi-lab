{
 "cells": [
  {
   "cell_type": "markdown",
   "metadata": {},
   "source": [
    "You have an aggregate score $s$ and $W$ which specifies the points that can be scored in an individual play. How would you find the number of combinations of plays that result in an aggregate score of $s$?"
   ]
  },
  {
   "cell_type": "code",
   "execution_count": 6,
   "metadata": {},
   "outputs": [],
   "source": [
    "def CountCombinations(k, score_ways):\n",
    "    combinations = [0]*(k+1) # combinations[i] = # of ways to reach i\n",
    "                             # combinations[k] = # of ways to reach k\n",
    "    combinations[0] = 1 # one way to reach 0\n",
    "    for score in score_ways:\n",
    "        for i in range(score, k+1):\n",
    "            combinations[i] += combinations[i-score]\n",
    "            \n",
    "    return combinations[k]"
   ]
  },
  {
   "cell_type": "code",
   "execution_count": 7,
   "metadata": {},
   "outputs": [
    {
     "data": {
      "text/plain": [
       "4"
      ]
     },
     "execution_count": 7,
     "metadata": {},
     "output_type": "execute_result"
    }
   ],
   "source": [
    "score_ways = [2,3,7]\n",
    "k = 12\n",
    "CountCombinations(k, score_ways)"
   ]
  },
  {
   "cell_type": "code",
   "execution_count": 8,
   "metadata": {
    "collapsed": true
   },
   "outputs": [],
   "source": [
    "def CountPermutations(k, score_ways):\n",
    "    permutations = [0]*(k+1)\n",
    "    permutations[0] = 1\n",
    "    for i in range(k+1):\n",
    "        for score in score_ways:\n",
    "            if i >= score:\n",
    "                permutations[i] += permutations[i-score]\n",
    "                \n",
    "    return permutations[k]"
   ]
  },
  {
   "cell_type": "code",
   "execution_count": 9,
   "metadata": {},
   "outputs": [
    {
     "data": {
      "text/plain": [
       "18"
      ]
     },
     "execution_count": 9,
     "metadata": {},
     "output_type": "execute_result"
    }
   ],
   "source": [
    "score_ways = [2,3,7]\n",
    "k = 12\n",
    "CountPermutations(k, score_ways)"
   ]
  },
  {
   "cell_type": "code",
   "execution_count": null,
   "metadata": {
    "collapsed": true
   },
   "outputs": [],
   "source": []
  }
 ],
 "metadata": {
  "kernelspec": {
   "display_name": "Python 3",
   "language": "python",
   "name": "python3"
  },
  "language_info": {
   "codemirror_mode": {
    "name": "ipython",
    "version": 3
   },
   "file_extension": ".py",
   "mimetype": "text/x-python",
   "name": "python",
   "nbconvert_exporter": "python",
   "pygments_lexer": "ipython3",
   "version": "3.6.0"
  }
 },
 "nbformat": 4,
 "nbformat_minor": 2
}
